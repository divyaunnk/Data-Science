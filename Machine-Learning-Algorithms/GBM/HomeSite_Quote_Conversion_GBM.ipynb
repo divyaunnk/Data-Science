{
  "nbformat": 4,
  "nbformat_minor": 0,
  "metadata": {
    "colab": {
      "name": "HomeSite_Quote_Conversion_GBM.ipynb",
      "provenance": []
    },
    "kernelspec": {
      "name": "python3",
      "display_name": "Python 3"
    },
    "language_info": {
      "name": "python"
    }
  },
  "cells": [
    {
      "cell_type": "markdown",
      "metadata": {
        "id": "ZNlAyDHN46v7"
      },
      "source": [
        " **Data Science Engineering Methods and Tools**\n",
        "\n",
        "**Assignment 2 - Kaggle Competition - Homesite Quote Conversion**\n",
        "\n",
        "**Name : Divya Unnikrishnan**\n",
        "\n",
        "**NUID: 001001182**"
      ]
    },
    {
      "cell_type": "markdown",
      "metadata": {
        "id": "dTVFeXN54_c8"
      },
      "source": [
        "**Abstract**\n",
        "\n",
        "The goal of Homesite Quote Conversion competition is to predict which which customers will purchase a given insurance quote. We have been given an anonymized dataset which has information on customer and sales activity, including property and coverage information. Each QuoteNumber corresponds to a potential customer and the QuoteConversion_Flag indicates whether the customer purchased a policy. The training dataset consists of around 260,000 rows and around 300 features, a mixture of numeric and categorical. This solution focuses on Gradient Boosting Classifier with and without hyperparameter tuning.  A metric score calculation function has been created which measures the area under the ROC curve\n"
      ]
    },
    {
      "cell_type": "markdown",
      "metadata": {
        "id": "yFBSf984JXFP"
      },
      "source": [
        "**Using Kaggle API to import CSV file from the competition**"
      ]
    },
    {
      "cell_type": "code",
      "metadata": {
        "colab": {
          "resources": {
            "http://localhost:8080/nbextensions/google.colab/files.js": {
              "data": "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",
              "ok": true,
              "headers": [
                [
                  "content-type",
                  "application/javascript"
                ]
              ],
              "status": 200,
              "status_text": ""
            }
          },
          "base_uri": "https://localhost:8080/",
          "height": 90
        },
        "id": "FoiI9kBfzN43",
        "outputId": "89d03dfd-2f99-40dd-bf39-f46d1ea91825"
      },
      "source": [
        "from google.colab import files\n",
        "uploaded = files.upload()\n",
        "\n",
        "for fn in uploaded.keys():\n",
        "  print('User uploaded file \"{name}\" with length {length} bytes'.format(\n",
        "      name=fn, length=len(uploaded[fn])))\n",
        "  \n",
        "# Then move kaggle.json into the folder where the API expects to find it.\n",
        "!mkdir -p ~/.kaggle/ && mv kaggle.json ~/.kaggle/ && chmod 600 ~/.kaggle/kaggle.json"
      ],
      "execution_count": 57,
      "outputs": [
        {
          "output_type": "display_data",
          "data": {
            "text/html": [
              "\n",
              "     <input type=\"file\" id=\"files-ed807cf0-45f4-4ed1-a590-5935436b7f97\" name=\"files[]\" multiple disabled\n",
              "        style=\"border:none\" />\n",
              "     <output id=\"result-ed807cf0-45f4-4ed1-a590-5935436b7f97\">\n",
              "      Upload widget is only available when the cell has been executed in the\n",
              "      current browser session. Please rerun this cell to enable.\n",
              "      </output>\n",
              "      <script src=\"/nbextensions/google.colab/files.js\"></script> "
            ],
            "text/plain": [
              "<IPython.core.display.HTML object>"
            ]
          },
          "metadata": {}
        },
        {
          "output_type": "stream",
          "name": "stdout",
          "text": [
            "Saving kaggle.json to kaggle.json\n",
            "User uploaded file \"kaggle.json\" with length 67 bytes\n"
          ]
        }
      ]
    },
    {
      "cell_type": "code",
      "metadata": {
        "colab": {
          "base_uri": "https://localhost:8080/"
        },
        "id": "28kp92n815fe",
        "outputId": "8fed689b-2bcc-405c-8df7-d05d9683a1b5"
      },
      "source": [
        "!kaggle competitions download -c \"homesite-quote-conversion\""
      ],
      "execution_count": 58,
      "outputs": [
        {
          "output_type": "stream",
          "name": "stdout",
          "text": [
            "Warning: Looks like you're using an outdated API Version, please consider updating (server 1.5.12 / client 1.5.4)\n",
            "train.csv.zip: Skipping, found more recently modified local copy (use --force to force download)\n",
            "test.csv.zip: Skipping, found more recently modified local copy (use --force to force download)\n",
            "sample_submission.csv.zip: Skipping, found more recently modified local copy (use --force to force download)\n"
          ]
        }
      ]
    },
    {
      "cell_type": "code",
      "metadata": {
        "colab": {
          "base_uri": "https://localhost:8080/"
        },
        "id": "gIu_gGfT18Jr",
        "outputId": "614dffb7-1b89-44e9-e18c-71e42cc04972"
      },
      "source": [
        "! unzip train.csv.zip -d train\n",
        "! unzip test.csv.zip -d test"
      ],
      "execution_count": 59,
      "outputs": [
        {
          "output_type": "stream",
          "name": "stdout",
          "text": [
            "Archive:  train.csv.zip\n",
            "replace train/train.csv? [y]es, [n]o, [A]ll, [N]one, [r]ename: n\n",
            "Archive:  test.csv.zip\n",
            "replace test/test.csv? [y]es, [n]o, [A]ll, [N]one, [r]ename: n\n"
          ]
        }
      ]
    },
    {
      "cell_type": "markdown",
      "metadata": {
        "id": "bxlOz8dbJkzz"
      },
      "source": [
        "**Importing necessary Python libraries**"
      ]
    },
    {
      "cell_type": "code",
      "metadata": {
        "colab": {
          "base_uri": "https://localhost:8080/",
          "height": 17
        },
        "id": "OPebROhD1-6A",
        "outputId": "9e35d457-8c95-416c-c6a0-72c963cd033b"
      },
      "source": [
        "import warnings\n",
        "warnings.filterwarnings('ignore')\n",
        "from IPython.core.display import display, HTML\n",
        "display(HTML(\"<style>.container { width:100% !important; }</style>\"))\n",
        "\n",
        "#importing necessary Python libraries\n",
        "%matplotlib inline\n",
        "import pandas as pd\n",
        "import numpy as np\n",
        "import seaborn as sns\n",
        "from sklearn import preprocessing\n",
        "import xgboost as xgb\n",
        "from sklearn.ensemble import RandomForestClassifier\n",
        "from sklearn import metrics\n",
        "\n",
        "\n",
        "# Set the aesthetic style of the plots.\n",
        "sns.set_style(style='darkgrid')\n",
        "import statsmodels.api as sm\n",
        "from sklearn.model_selection import train_test_split\n",
        "import matplotlib.pyplot as plt"
      ],
      "execution_count": 60,
      "outputs": [
        {
          "output_type": "display_data",
          "data": {
            "text/html": [
              "<style>.container { width:100% !important; }</style>"
            ],
            "text/plain": [
              "<IPython.core.display.HTML object>"
            ]
          },
          "metadata": {}
        }
      ]
    },
    {
      "cell_type": "markdown",
      "metadata": {
        "id": "4BxxrzkP2KLq"
      },
      "source": [
        "Printing first 5 rows of the training csv"
      ]
    },
    {
      "cell_type": "code",
      "metadata": {
        "colab": {
          "base_uri": "https://localhost:8080/",
          "height": 255
        },
        "id": "VRmXvh_p2Bfd",
        "outputId": "ef8b07ea-4a02-4c4f-8fa6-db2bc194e390"
      },
      "source": [
        "housing_df_train=pd.read_csv(\"train/train.csv\")\n",
        "housing_df_train.head(5)"
      ],
      "execution_count": 61,
      "outputs": [
        {
          "output_type": "execute_result",
          "data": {
            "text/html": [
              "<div>\n",
              "<style scoped>\n",
              "    .dataframe tbody tr th:only-of-type {\n",
              "        vertical-align: middle;\n",
              "    }\n",
              "\n",
              "    .dataframe tbody tr th {\n",
              "        vertical-align: top;\n",
              "    }\n",
              "\n",
              "    .dataframe thead th {\n",
              "        text-align: right;\n",
              "    }\n",
              "</style>\n",
              "<table border=\"1\" class=\"dataframe\">\n",
              "  <thead>\n",
              "    <tr style=\"text-align: right;\">\n",
              "      <th></th>\n",
              "      <th>QuoteNumber</th>\n",
              "      <th>Original_Quote_Date</th>\n",
              "      <th>QuoteConversion_Flag</th>\n",
              "      <th>Field6</th>\n",
              "      <th>Field7</th>\n",
              "      <th>Field8</th>\n",
              "      <th>Field9</th>\n",
              "      <th>Field10</th>\n",
              "      <th>Field11</th>\n",
              "      <th>Field12</th>\n",
              "      <th>CoverageField1A</th>\n",
              "      <th>CoverageField1B</th>\n",
              "      <th>CoverageField2A</th>\n",
              "      <th>CoverageField2B</th>\n",
              "      <th>CoverageField3A</th>\n",
              "      <th>CoverageField3B</th>\n",
              "      <th>CoverageField4A</th>\n",
              "      <th>CoverageField4B</th>\n",
              "      <th>CoverageField5A</th>\n",
              "      <th>CoverageField5B</th>\n",
              "      <th>CoverageField6A</th>\n",
              "      <th>CoverageField6B</th>\n",
              "      <th>CoverageField8</th>\n",
              "      <th>CoverageField9</th>\n",
              "      <th>CoverageField11A</th>\n",
              "      <th>CoverageField11B</th>\n",
              "      <th>SalesField1A</th>\n",
              "      <th>SalesField1B</th>\n",
              "      <th>SalesField2A</th>\n",
              "      <th>SalesField2B</th>\n",
              "      <th>SalesField3</th>\n",
              "      <th>SalesField4</th>\n",
              "      <th>SalesField5</th>\n",
              "      <th>SalesField6</th>\n",
              "      <th>SalesField7</th>\n",
              "      <th>SalesField8</th>\n",
              "      <th>SalesField9</th>\n",
              "      <th>SalesField10</th>\n",
              "      <th>SalesField11</th>\n",
              "      <th>SalesField12</th>\n",
              "      <th>...</th>\n",
              "      <th>GeographicField44A</th>\n",
              "      <th>GeographicField44B</th>\n",
              "      <th>GeographicField45A</th>\n",
              "      <th>GeographicField45B</th>\n",
              "      <th>GeographicField46A</th>\n",
              "      <th>GeographicField46B</th>\n",
              "      <th>GeographicField47A</th>\n",
              "      <th>GeographicField47B</th>\n",
              "      <th>GeographicField48A</th>\n",
              "      <th>GeographicField48B</th>\n",
              "      <th>GeographicField49A</th>\n",
              "      <th>GeographicField49B</th>\n",
              "      <th>GeographicField50A</th>\n",
              "      <th>GeographicField50B</th>\n",
              "      <th>GeographicField51A</th>\n",
              "      <th>GeographicField51B</th>\n",
              "      <th>GeographicField52A</th>\n",
              "      <th>GeographicField52B</th>\n",
              "      <th>GeographicField53A</th>\n",
              "      <th>GeographicField53B</th>\n",
              "      <th>GeographicField54A</th>\n",
              "      <th>GeographicField54B</th>\n",
              "      <th>GeographicField55A</th>\n",
              "      <th>GeographicField55B</th>\n",
              "      <th>GeographicField56A</th>\n",
              "      <th>GeographicField56B</th>\n",
              "      <th>GeographicField57A</th>\n",
              "      <th>GeographicField57B</th>\n",
              "      <th>GeographicField58A</th>\n",
              "      <th>GeographicField58B</th>\n",
              "      <th>GeographicField59A</th>\n",
              "      <th>GeographicField59B</th>\n",
              "      <th>GeographicField60A</th>\n",
              "      <th>GeographicField60B</th>\n",
              "      <th>GeographicField61A</th>\n",
              "      <th>GeographicField61B</th>\n",
              "      <th>GeographicField62A</th>\n",
              "      <th>GeographicField62B</th>\n",
              "      <th>GeographicField63</th>\n",
              "      <th>GeographicField64</th>\n",
              "    </tr>\n",
              "  </thead>\n",
              "  <tbody>\n",
              "    <tr>\n",
              "      <th>0</th>\n",
              "      <td>1</td>\n",
              "      <td>2013-08-16</td>\n",
              "      <td>0</td>\n",
              "      <td>B</td>\n",
              "      <td>23</td>\n",
              "      <td>0.9403</td>\n",
              "      <td>0.0006</td>\n",
              "      <td>965</td>\n",
              "      <td>1.0200</td>\n",
              "      <td>N</td>\n",
              "      <td>17</td>\n",
              "      <td>23</td>\n",
              "      <td>17</td>\n",
              "      <td>23</td>\n",
              "      <td>15</td>\n",
              "      <td>22</td>\n",
              "      <td>16</td>\n",
              "      <td>22</td>\n",
              "      <td>13</td>\n",
              "      <td>22</td>\n",
              "      <td>13</td>\n",
              "      <td>23</td>\n",
              "      <td>T</td>\n",
              "      <td>D</td>\n",
              "      <td>2</td>\n",
              "      <td>1</td>\n",
              "      <td>7</td>\n",
              "      <td>18</td>\n",
              "      <td>3</td>\n",
              "      <td>8</td>\n",
              "      <td>0</td>\n",
              "      <td>5</td>\n",
              "      <td>5</td>\n",
              "      <td>24</td>\n",
              "      <td>V</td>\n",
              "      <td>48649</td>\n",
              "      <td>0</td>\n",
              "      <td>0</td>\n",
              "      <td>0</td>\n",
              "      <td>0</td>\n",
              "      <td>...</td>\n",
              "      <td>8</td>\n",
              "      <td>4</td>\n",
              "      <td>20</td>\n",
              "      <td>22</td>\n",
              "      <td>10</td>\n",
              "      <td>8</td>\n",
              "      <td>6</td>\n",
              "      <td>5</td>\n",
              "      <td>15</td>\n",
              "      <td>13</td>\n",
              "      <td>19</td>\n",
              "      <td>18</td>\n",
              "      <td>16</td>\n",
              "      <td>14</td>\n",
              "      <td>21</td>\n",
              "      <td>23</td>\n",
              "      <td>21</td>\n",
              "      <td>23</td>\n",
              "      <td>16</td>\n",
              "      <td>11</td>\n",
              "      <td>22</td>\n",
              "      <td>24</td>\n",
              "      <td>7</td>\n",
              "      <td>14</td>\n",
              "      <td>-1</td>\n",
              "      <td>17</td>\n",
              "      <td>15</td>\n",
              "      <td>17</td>\n",
              "      <td>14</td>\n",
              "      <td>18</td>\n",
              "      <td>9</td>\n",
              "      <td>9</td>\n",
              "      <td>-1</td>\n",
              "      <td>8</td>\n",
              "      <td>-1</td>\n",
              "      <td>18</td>\n",
              "      <td>-1</td>\n",
              "      <td>10</td>\n",
              "      <td>N</td>\n",
              "      <td>CA</td>\n",
              "    </tr>\n",
              "    <tr>\n",
              "      <th>1</th>\n",
              "      <td>2</td>\n",
              "      <td>2014-04-22</td>\n",
              "      <td>0</td>\n",
              "      <td>F</td>\n",
              "      <td>7</td>\n",
              "      <td>1.0006</td>\n",
              "      <td>0.0040</td>\n",
              "      <td>548</td>\n",
              "      <td>1.2433</td>\n",
              "      <td>N</td>\n",
              "      <td>6</td>\n",
              "      <td>8</td>\n",
              "      <td>6</td>\n",
              "      <td>8</td>\n",
              "      <td>5</td>\n",
              "      <td>7</td>\n",
              "      <td>5</td>\n",
              "      <td>8</td>\n",
              "      <td>13</td>\n",
              "      <td>22</td>\n",
              "      <td>13</td>\n",
              "      <td>23</td>\n",
              "      <td>T</td>\n",
              "      <td>E</td>\n",
              "      <td>5</td>\n",
              "      <td>9</td>\n",
              "      <td>5</td>\n",
              "      <td>14</td>\n",
              "      <td>6</td>\n",
              "      <td>18</td>\n",
              "      <td>1</td>\n",
              "      <td>5</td>\n",
              "      <td>5</td>\n",
              "      <td>11</td>\n",
              "      <td>P</td>\n",
              "      <td>26778</td>\n",
              "      <td>0</td>\n",
              "      <td>0</td>\n",
              "      <td>1</td>\n",
              "      <td>1</td>\n",
              "      <td>...</td>\n",
              "      <td>23</td>\n",
              "      <td>24</td>\n",
              "      <td>11</td>\n",
              "      <td>15</td>\n",
              "      <td>21</td>\n",
              "      <td>24</td>\n",
              "      <td>6</td>\n",
              "      <td>11</td>\n",
              "      <td>21</td>\n",
              "      <td>21</td>\n",
              "      <td>18</td>\n",
              "      <td>15</td>\n",
              "      <td>20</td>\n",
              "      <td>20</td>\n",
              "      <td>13</td>\n",
              "      <td>12</td>\n",
              "      <td>12</td>\n",
              "      <td>12</td>\n",
              "      <td>15</td>\n",
              "      <td>9</td>\n",
              "      <td>13</td>\n",
              "      <td>11</td>\n",
              "      <td>11</td>\n",
              "      <td>20</td>\n",
              "      <td>-1</td>\n",
              "      <td>9</td>\n",
              "      <td>18</td>\n",
              "      <td>21</td>\n",
              "      <td>8</td>\n",
              "      <td>7</td>\n",
              "      <td>10</td>\n",
              "      <td>10</td>\n",
              "      <td>-1</td>\n",
              "      <td>11</td>\n",
              "      <td>-1</td>\n",
              "      <td>17</td>\n",
              "      <td>-1</td>\n",
              "      <td>20</td>\n",
              "      <td>N</td>\n",
              "      <td>NJ</td>\n",
              "    </tr>\n",
              "    <tr>\n",
              "      <th>2</th>\n",
              "      <td>4</td>\n",
              "      <td>2014-08-25</td>\n",
              "      <td>0</td>\n",
              "      <td>F</td>\n",
              "      <td>7</td>\n",
              "      <td>1.0006</td>\n",
              "      <td>0.0040</td>\n",
              "      <td>548</td>\n",
              "      <td>1.2433</td>\n",
              "      <td>N</td>\n",
              "      <td>7</td>\n",
              "      <td>12</td>\n",
              "      <td>7</td>\n",
              "      <td>12</td>\n",
              "      <td>6</td>\n",
              "      <td>10</td>\n",
              "      <td>7</td>\n",
              "      <td>11</td>\n",
              "      <td>25</td>\n",
              "      <td>25</td>\n",
              "      <td>13</td>\n",
              "      <td>23</td>\n",
              "      <td>T</td>\n",
              "      <td>J</td>\n",
              "      <td>4</td>\n",
              "      <td>6</td>\n",
              "      <td>3</td>\n",
              "      <td>10</td>\n",
              "      <td>4</td>\n",
              "      <td>11</td>\n",
              "      <td>1</td>\n",
              "      <td>5</td>\n",
              "      <td>5</td>\n",
              "      <td>11</td>\n",
              "      <td>K</td>\n",
              "      <td>8751</td>\n",
              "      <td>0</td>\n",
              "      <td>0</td>\n",
              "      <td>2</td>\n",
              "      <td>2</td>\n",
              "      <td>...</td>\n",
              "      <td>21</td>\n",
              "      <td>22</td>\n",
              "      <td>24</td>\n",
              "      <td>25</td>\n",
              "      <td>20</td>\n",
              "      <td>22</td>\n",
              "      <td>7</td>\n",
              "      <td>13</td>\n",
              "      <td>23</td>\n",
              "      <td>23</td>\n",
              "      <td>20</td>\n",
              "      <td>19</td>\n",
              "      <td>20</td>\n",
              "      <td>20</td>\n",
              "      <td>18</td>\n",
              "      <td>20</td>\n",
              "      <td>19</td>\n",
              "      <td>21</td>\n",
              "      <td>20</td>\n",
              "      <td>19</td>\n",
              "      <td>11</td>\n",
              "      <td>8</td>\n",
              "      <td>3</td>\n",
              "      <td>3</td>\n",
              "      <td>-1</td>\n",
              "      <td>5</td>\n",
              "      <td>21</td>\n",
              "      <td>24</td>\n",
              "      <td>12</td>\n",
              "      <td>15</td>\n",
              "      <td>15</td>\n",
              "      <td>18</td>\n",
              "      <td>-1</td>\n",
              "      <td>21</td>\n",
              "      <td>-1</td>\n",
              "      <td>11</td>\n",
              "      <td>-1</td>\n",
              "      <td>8</td>\n",
              "      <td>N</td>\n",
              "      <td>NJ</td>\n",
              "    </tr>\n",
              "    <tr>\n",
              "      <th>3</th>\n",
              "      <td>6</td>\n",
              "      <td>2013-04-15</td>\n",
              "      <td>0</td>\n",
              "      <td>J</td>\n",
              "      <td>10</td>\n",
              "      <td>0.9769</td>\n",
              "      <td>0.0004</td>\n",
              "      <td>1,165</td>\n",
              "      <td>1.2665</td>\n",
              "      <td>N</td>\n",
              "      <td>3</td>\n",
              "      <td>2</td>\n",
              "      <td>3</td>\n",
              "      <td>2</td>\n",
              "      <td>2</td>\n",
              "      <td>2</td>\n",
              "      <td>3</td>\n",
              "      <td>2</td>\n",
              "      <td>13</td>\n",
              "      <td>22</td>\n",
              "      <td>13</td>\n",
              "      <td>23</td>\n",
              "      <td>Y</td>\n",
              "      <td>F</td>\n",
              "      <td>15</td>\n",
              "      <td>23</td>\n",
              "      <td>8</td>\n",
              "      <td>19</td>\n",
              "      <td>14</td>\n",
              "      <td>24</td>\n",
              "      <td>0</td>\n",
              "      <td>5</td>\n",
              "      <td>5</td>\n",
              "      <td>23</td>\n",
              "      <td>V</td>\n",
              "      <td>43854</td>\n",
              "      <td>0</td>\n",
              "      <td>0</td>\n",
              "      <td>0</td>\n",
              "      <td>0</td>\n",
              "      <td>...</td>\n",
              "      <td>3</td>\n",
              "      <td>1</td>\n",
              "      <td>14</td>\n",
              "      <td>22</td>\n",
              "      <td>6</td>\n",
              "      <td>2</td>\n",
              "      <td>7</td>\n",
              "      <td>14</td>\n",
              "      <td>11</td>\n",
              "      <td>8</td>\n",
              "      <td>19</td>\n",
              "      <td>18</td>\n",
              "      <td>18</td>\n",
              "      <td>16</td>\n",
              "      <td>13</td>\n",
              "      <td>12</td>\n",
              "      <td>13</td>\n",
              "      <td>12</td>\n",
              "      <td>17</td>\n",
              "      <td>13</td>\n",
              "      <td>5</td>\n",
              "      <td>2</td>\n",
              "      <td>3</td>\n",
              "      <td>4</td>\n",
              "      <td>-1</td>\n",
              "      <td>7</td>\n",
              "      <td>14</td>\n",
              "      <td>14</td>\n",
              "      <td>14</td>\n",
              "      <td>18</td>\n",
              "      <td>6</td>\n",
              "      <td>5</td>\n",
              "      <td>-1</td>\n",
              "      <td>10</td>\n",
              "      <td>-1</td>\n",
              "      <td>9</td>\n",
              "      <td>-1</td>\n",
              "      <td>21</td>\n",
              "      <td>N</td>\n",
              "      <td>TX</td>\n",
              "    </tr>\n",
              "    <tr>\n",
              "      <th>4</th>\n",
              "      <td>8</td>\n",
              "      <td>2014-01-25</td>\n",
              "      <td>0</td>\n",
              "      <td>E</td>\n",
              "      <td>23</td>\n",
              "      <td>0.9472</td>\n",
              "      <td>0.0006</td>\n",
              "      <td>1,487</td>\n",
              "      <td>1.3045</td>\n",
              "      <td>N</td>\n",
              "      <td>8</td>\n",
              "      <td>13</td>\n",
              "      <td>8</td>\n",
              "      <td>13</td>\n",
              "      <td>7</td>\n",
              "      <td>11</td>\n",
              "      <td>7</td>\n",
              "      <td>13</td>\n",
              "      <td>13</td>\n",
              "      <td>22</td>\n",
              "      <td>13</td>\n",
              "      <td>23</td>\n",
              "      <td>T</td>\n",
              "      <td>F</td>\n",
              "      <td>4</td>\n",
              "      <td>6</td>\n",
              "      <td>3</td>\n",
              "      <td>6</td>\n",
              "      <td>3</td>\n",
              "      <td>6</td>\n",
              "      <td>1</td>\n",
              "      <td>5</td>\n",
              "      <td>5</td>\n",
              "      <td>7</td>\n",
              "      <td>R</td>\n",
              "      <td>12505</td>\n",
              "      <td>1</td>\n",
              "      <td>0</td>\n",
              "      <td>0</td>\n",
              "      <td>0</td>\n",
              "      <td>...</td>\n",
              "      <td>24</td>\n",
              "      <td>25</td>\n",
              "      <td>9</td>\n",
              "      <td>11</td>\n",
              "      <td>25</td>\n",
              "      <td>25</td>\n",
              "      <td>5</td>\n",
              "      <td>3</td>\n",
              "      <td>22</td>\n",
              "      <td>22</td>\n",
              "      <td>21</td>\n",
              "      <td>21</td>\n",
              "      <td>17</td>\n",
              "      <td>15</td>\n",
              "      <td>25</td>\n",
              "      <td>25</td>\n",
              "      <td>25</td>\n",
              "      <td>25</td>\n",
              "      <td>17</td>\n",
              "      <td>13</td>\n",
              "      <td>13</td>\n",
              "      <td>11</td>\n",
              "      <td>3</td>\n",
              "      <td>4</td>\n",
              "      <td>-1</td>\n",
              "      <td>7</td>\n",
              "      <td>11</td>\n",
              "      <td>9</td>\n",
              "      <td>10</td>\n",
              "      <td>10</td>\n",
              "      <td>18</td>\n",
              "      <td>22</td>\n",
              "      <td>-1</td>\n",
              "      <td>10</td>\n",
              "      <td>-1</td>\n",
              "      <td>11</td>\n",
              "      <td>-1</td>\n",
              "      <td>12</td>\n",
              "      <td>N</td>\n",
              "      <td>IL</td>\n",
              "    </tr>\n",
              "  </tbody>\n",
              "</table>\n",
              "<p>5 rows × 299 columns</p>\n",
              "</div>"
            ],
            "text/plain": [
              "   QuoteNumber Original_Quote_Date  ...  GeographicField63 GeographicField64\n",
              "0            1          2013-08-16  ...                  N                CA\n",
              "1            2          2014-04-22  ...                  N                NJ\n",
              "2            4          2014-08-25  ...                  N                NJ\n",
              "3            6          2013-04-15  ...                  N                TX\n",
              "4            8          2014-01-25  ...                  N                IL\n",
              "\n",
              "[5 rows x 299 columns]"
            ]
          },
          "metadata": {},
          "execution_count": 61
        }
      ]
    },
    {
      "cell_type": "markdown",
      "metadata": {
        "id": "JfqoOVLn2M3F"
      },
      "source": [
        "Printing first 5 rows of the testing csv"
      ]
    },
    {
      "cell_type": "code",
      "metadata": {
        "colab": {
          "base_uri": "https://localhost:8080/",
          "height": 255
        },
        "id": "ZIp09j0z2FMU",
        "outputId": "9a1420eb-7cb8-48b7-d183-d1a8ed1f8f16"
      },
      "source": [
        "housing_df_test=pd.read_csv(\"test/test.csv\")\n",
        "housing_df_test.head(5)"
      ],
      "execution_count": 62,
      "outputs": [
        {
          "output_type": "execute_result",
          "data": {
            "text/html": [
              "<div>\n",
              "<style scoped>\n",
              "    .dataframe tbody tr th:only-of-type {\n",
              "        vertical-align: middle;\n",
              "    }\n",
              "\n",
              "    .dataframe tbody tr th {\n",
              "        vertical-align: top;\n",
              "    }\n",
              "\n",
              "    .dataframe thead th {\n",
              "        text-align: right;\n",
              "    }\n",
              "</style>\n",
              "<table border=\"1\" class=\"dataframe\">\n",
              "  <thead>\n",
              "    <tr style=\"text-align: right;\">\n",
              "      <th></th>\n",
              "      <th>QuoteNumber</th>\n",
              "      <th>Original_Quote_Date</th>\n",
              "      <th>Field6</th>\n",
              "      <th>Field7</th>\n",
              "      <th>Field8</th>\n",
              "      <th>Field9</th>\n",
              "      <th>Field10</th>\n",
              "      <th>Field11</th>\n",
              "      <th>Field12</th>\n",
              "      <th>CoverageField1A</th>\n",
              "      <th>CoverageField1B</th>\n",
              "      <th>CoverageField2A</th>\n",
              "      <th>CoverageField2B</th>\n",
              "      <th>CoverageField3A</th>\n",
              "      <th>CoverageField3B</th>\n",
              "      <th>CoverageField4A</th>\n",
              "      <th>CoverageField4B</th>\n",
              "      <th>CoverageField5A</th>\n",
              "      <th>CoverageField5B</th>\n",
              "      <th>CoverageField6A</th>\n",
              "      <th>CoverageField6B</th>\n",
              "      <th>CoverageField8</th>\n",
              "      <th>CoverageField9</th>\n",
              "      <th>CoverageField11A</th>\n",
              "      <th>CoverageField11B</th>\n",
              "      <th>SalesField1A</th>\n",
              "      <th>SalesField1B</th>\n",
              "      <th>SalesField2A</th>\n",
              "      <th>SalesField2B</th>\n",
              "      <th>SalesField3</th>\n",
              "      <th>SalesField4</th>\n",
              "      <th>SalesField5</th>\n",
              "      <th>SalesField6</th>\n",
              "      <th>SalesField7</th>\n",
              "      <th>SalesField8</th>\n",
              "      <th>SalesField9</th>\n",
              "      <th>SalesField10</th>\n",
              "      <th>SalesField11</th>\n",
              "      <th>SalesField12</th>\n",
              "      <th>SalesField13</th>\n",
              "      <th>...</th>\n",
              "      <th>GeographicField44A</th>\n",
              "      <th>GeographicField44B</th>\n",
              "      <th>GeographicField45A</th>\n",
              "      <th>GeographicField45B</th>\n",
              "      <th>GeographicField46A</th>\n",
              "      <th>GeographicField46B</th>\n",
              "      <th>GeographicField47A</th>\n",
              "      <th>GeographicField47B</th>\n",
              "      <th>GeographicField48A</th>\n",
              "      <th>GeographicField48B</th>\n",
              "      <th>GeographicField49A</th>\n",
              "      <th>GeographicField49B</th>\n",
              "      <th>GeographicField50A</th>\n",
              "      <th>GeographicField50B</th>\n",
              "      <th>GeographicField51A</th>\n",
              "      <th>GeographicField51B</th>\n",
              "      <th>GeographicField52A</th>\n",
              "      <th>GeographicField52B</th>\n",
              "      <th>GeographicField53A</th>\n",
              "      <th>GeographicField53B</th>\n",
              "      <th>GeographicField54A</th>\n",
              "      <th>GeographicField54B</th>\n",
              "      <th>GeographicField55A</th>\n",
              "      <th>GeographicField55B</th>\n",
              "      <th>GeographicField56A</th>\n",
              "      <th>GeographicField56B</th>\n",
              "      <th>GeographicField57A</th>\n",
              "      <th>GeographicField57B</th>\n",
              "      <th>GeographicField58A</th>\n",
              "      <th>GeographicField58B</th>\n",
              "      <th>GeographicField59A</th>\n",
              "      <th>GeographicField59B</th>\n",
              "      <th>GeographicField60A</th>\n",
              "      <th>GeographicField60B</th>\n",
              "      <th>GeographicField61A</th>\n",
              "      <th>GeographicField61B</th>\n",
              "      <th>GeographicField62A</th>\n",
              "      <th>GeographicField62B</th>\n",
              "      <th>GeographicField63</th>\n",
              "      <th>GeographicField64</th>\n",
              "    </tr>\n",
              "  </thead>\n",
              "  <tbody>\n",
              "    <tr>\n",
              "      <th>0</th>\n",
              "      <td>3</td>\n",
              "      <td>2014-08-12</td>\n",
              "      <td>E</td>\n",
              "      <td>16</td>\n",
              "      <td>0.9364</td>\n",
              "      <td>0.0006</td>\n",
              "      <td>1,487</td>\n",
              "      <td>1.3045</td>\n",
              "      <td>N</td>\n",
              "      <td>4</td>\n",
              "      <td>4</td>\n",
              "      <td>4</td>\n",
              "      <td>4</td>\n",
              "      <td>3</td>\n",
              "      <td>3</td>\n",
              "      <td>3</td>\n",
              "      <td>4</td>\n",
              "      <td>13</td>\n",
              "      <td>22</td>\n",
              "      <td>13</td>\n",
              "      <td>23</td>\n",
              "      <td>Y</td>\n",
              "      <td>K</td>\n",
              "      <td>13</td>\n",
              "      <td>22</td>\n",
              "      <td>6</td>\n",
              "      <td>16</td>\n",
              "      <td>9</td>\n",
              "      <td>21</td>\n",
              "      <td>0</td>\n",
              "      <td>5</td>\n",
              "      <td>5</td>\n",
              "      <td>11</td>\n",
              "      <td>P</td>\n",
              "      <td>67052</td>\n",
              "      <td>0</td>\n",
              "      <td>0</td>\n",
              "      <td>0</td>\n",
              "      <td>0</td>\n",
              "      <td>0</td>\n",
              "      <td>...</td>\n",
              "      <td>22</td>\n",
              "      <td>23</td>\n",
              "      <td>9</td>\n",
              "      <td>12</td>\n",
              "      <td>25</td>\n",
              "      <td>25</td>\n",
              "      <td>6</td>\n",
              "      <td>9</td>\n",
              "      <td>4</td>\n",
              "      <td>2</td>\n",
              "      <td>16</td>\n",
              "      <td>12</td>\n",
              "      <td>20</td>\n",
              "      <td>20</td>\n",
              "      <td>2</td>\n",
              "      <td>2</td>\n",
              "      <td>2</td>\n",
              "      <td>1</td>\n",
              "      <td>1</td>\n",
              "      <td>1</td>\n",
              "      <td>10</td>\n",
              "      <td>7</td>\n",
              "      <td>25</td>\n",
              "      <td>25</td>\n",
              "      <td>-1</td>\n",
              "      <td>19</td>\n",
              "      <td>19</td>\n",
              "      <td>22</td>\n",
              "      <td>12</td>\n",
              "      <td>15</td>\n",
              "      <td>1</td>\n",
              "      <td>1</td>\n",
              "      <td>-1</td>\n",
              "      <td>1</td>\n",
              "      <td>-1</td>\n",
              "      <td>20</td>\n",
              "      <td>-1</td>\n",
              "      <td>25</td>\n",
              "      <td>Y</td>\n",
              "      <td>IL</td>\n",
              "    </tr>\n",
              "    <tr>\n",
              "      <th>1</th>\n",
              "      <td>5</td>\n",
              "      <td>2013-09-07</td>\n",
              "      <td>F</td>\n",
              "      <td>11</td>\n",
              "      <td>0.9919</td>\n",
              "      <td>0.0038</td>\n",
              "      <td>564</td>\n",
              "      <td>1.1886</td>\n",
              "      <td>N</td>\n",
              "      <td>8</td>\n",
              "      <td>14</td>\n",
              "      <td>8</td>\n",
              "      <td>14</td>\n",
              "      <td>7</td>\n",
              "      <td>12</td>\n",
              "      <td>8</td>\n",
              "      <td>13</td>\n",
              "      <td>13</td>\n",
              "      <td>22</td>\n",
              "      <td>13</td>\n",
              "      <td>23</td>\n",
              "      <td>T</td>\n",
              "      <td>E</td>\n",
              "      <td>4</td>\n",
              "      <td>5</td>\n",
              "      <td>3</td>\n",
              "      <td>6</td>\n",
              "      <td>3</td>\n",
              "      <td>6</td>\n",
              "      <td>1</td>\n",
              "      <td>5</td>\n",
              "      <td>5</td>\n",
              "      <td>4</td>\n",
              "      <td>R</td>\n",
              "      <td>27288</td>\n",
              "      <td>1</td>\n",
              "      <td>0</td>\n",
              "      <td>0</td>\n",
              "      <td>0</td>\n",
              "      <td>0</td>\n",
              "      <td>...</td>\n",
              "      <td>23</td>\n",
              "      <td>24</td>\n",
              "      <td>12</td>\n",
              "      <td>21</td>\n",
              "      <td>23</td>\n",
              "      <td>25</td>\n",
              "      <td>7</td>\n",
              "      <td>11</td>\n",
              "      <td>16</td>\n",
              "      <td>14</td>\n",
              "      <td>13</td>\n",
              "      <td>6</td>\n",
              "      <td>17</td>\n",
              "      <td>15</td>\n",
              "      <td>7</td>\n",
              "      <td>5</td>\n",
              "      <td>7</td>\n",
              "      <td>5</td>\n",
              "      <td>13</td>\n",
              "      <td>7</td>\n",
              "      <td>14</td>\n",
              "      <td>14</td>\n",
              "      <td>7</td>\n",
              "      <td>14</td>\n",
              "      <td>-1</td>\n",
              "      <td>4</td>\n",
              "      <td>1</td>\n",
              "      <td>1</td>\n",
              "      <td>5</td>\n",
              "      <td>3</td>\n",
              "      <td>10</td>\n",
              "      <td>10</td>\n",
              "      <td>-1</td>\n",
              "      <td>5</td>\n",
              "      <td>-1</td>\n",
              "      <td>5</td>\n",
              "      <td>-1</td>\n",
              "      <td>21</td>\n",
              "      <td>N</td>\n",
              "      <td>NJ</td>\n",
              "    </tr>\n",
              "    <tr>\n",
              "      <th>2</th>\n",
              "      <td>7</td>\n",
              "      <td>2013-03-29</td>\n",
              "      <td>F</td>\n",
              "      <td>15</td>\n",
              "      <td>0.8945</td>\n",
              "      <td>0.0038</td>\n",
              "      <td>564</td>\n",
              "      <td>1.0670</td>\n",
              "      <td>N</td>\n",
              "      <td>11</td>\n",
              "      <td>18</td>\n",
              "      <td>11</td>\n",
              "      <td>18</td>\n",
              "      <td>10</td>\n",
              "      <td>16</td>\n",
              "      <td>10</td>\n",
              "      <td>18</td>\n",
              "      <td>13</td>\n",
              "      <td>22</td>\n",
              "      <td>13</td>\n",
              "      <td>23</td>\n",
              "      <td>T</td>\n",
              "      <td>E</td>\n",
              "      <td>3</td>\n",
              "      <td>3</td>\n",
              "      <td>5</td>\n",
              "      <td>14</td>\n",
              "      <td>3</td>\n",
              "      <td>9</td>\n",
              "      <td>1</td>\n",
              "      <td>5</td>\n",
              "      <td>5</td>\n",
              "      <td>23</td>\n",
              "      <td>V</td>\n",
              "      <td>65264</td>\n",
              "      <td>0</td>\n",
              "      <td>1</td>\n",
              "      <td>2</td>\n",
              "      <td>2</td>\n",
              "      <td>0</td>\n",
              "      <td>...</td>\n",
              "      <td>16</td>\n",
              "      <td>18</td>\n",
              "      <td>9</td>\n",
              "      <td>10</td>\n",
              "      <td>14</td>\n",
              "      <td>16</td>\n",
              "      <td>6</td>\n",
              "      <td>8</td>\n",
              "      <td>20</td>\n",
              "      <td>19</td>\n",
              "      <td>17</td>\n",
              "      <td>14</td>\n",
              "      <td>16</td>\n",
              "      <td>13</td>\n",
              "      <td>20</td>\n",
              "      <td>22</td>\n",
              "      <td>20</td>\n",
              "      <td>22</td>\n",
              "      <td>20</td>\n",
              "      <td>18</td>\n",
              "      <td>10</td>\n",
              "      <td>7</td>\n",
              "      <td>4</td>\n",
              "      <td>7</td>\n",
              "      <td>-1</td>\n",
              "      <td>11</td>\n",
              "      <td>13</td>\n",
              "      <td>12</td>\n",
              "      <td>18</td>\n",
              "      <td>22</td>\n",
              "      <td>10</td>\n",
              "      <td>11</td>\n",
              "      <td>-1</td>\n",
              "      <td>20</td>\n",
              "      <td>-1</td>\n",
              "      <td>22</td>\n",
              "      <td>-1</td>\n",
              "      <td>11</td>\n",
              "      <td>N</td>\n",
              "      <td>NJ</td>\n",
              "    </tr>\n",
              "    <tr>\n",
              "      <th>3</th>\n",
              "      <td>9</td>\n",
              "      <td>2015-03-21</td>\n",
              "      <td>K</td>\n",
              "      <td>21</td>\n",
              "      <td>0.8870</td>\n",
              "      <td>0.0004</td>\n",
              "      <td>1,113</td>\n",
              "      <td>1.2665</td>\n",
              "      <td>Y</td>\n",
              "      <td>14</td>\n",
              "      <td>22</td>\n",
              "      <td>15</td>\n",
              "      <td>22</td>\n",
              "      <td>13</td>\n",
              "      <td>20</td>\n",
              "      <td>22</td>\n",
              "      <td>25</td>\n",
              "      <td>13</td>\n",
              "      <td>22</td>\n",
              "      <td>13</td>\n",
              "      <td>23</td>\n",
              "      <td>Y</td>\n",
              "      <td>F</td>\n",
              "      <td>5</td>\n",
              "      <td>9</td>\n",
              "      <td>9</td>\n",
              "      <td>20</td>\n",
              "      <td>5</td>\n",
              "      <td>16</td>\n",
              "      <td>1</td>\n",
              "      <td>5</td>\n",
              "      <td>5</td>\n",
              "      <td>11</td>\n",
              "      <td>R</td>\n",
              "      <td>32725</td>\n",
              "      <td>1</td>\n",
              "      <td>1</td>\n",
              "      <td>1</td>\n",
              "      <td>1</td>\n",
              "      <td>0</td>\n",
              "      <td>...</td>\n",
              "      <td>11</td>\n",
              "      <td>11</td>\n",
              "      <td>9</td>\n",
              "      <td>10</td>\n",
              "      <td>11</td>\n",
              "      <td>13</td>\n",
              "      <td>15</td>\n",
              "      <td>21</td>\n",
              "      <td>14</td>\n",
              "      <td>12</td>\n",
              "      <td>17</td>\n",
              "      <td>13</td>\n",
              "      <td>10</td>\n",
              "      <td>6</td>\n",
              "      <td>20</td>\n",
              "      <td>22</td>\n",
              "      <td>20</td>\n",
              "      <td>22</td>\n",
              "      <td>19</td>\n",
              "      <td>16</td>\n",
              "      <td>12</td>\n",
              "      <td>11</td>\n",
              "      <td>4</td>\n",
              "      <td>6</td>\n",
              "      <td>-1</td>\n",
              "      <td>13</td>\n",
              "      <td>10</td>\n",
              "      <td>8</td>\n",
              "      <td>5</td>\n",
              "      <td>3</td>\n",
              "      <td>8</td>\n",
              "      <td>8</td>\n",
              "      <td>-1</td>\n",
              "      <td>13</td>\n",
              "      <td>-1</td>\n",
              "      <td>8</td>\n",
              "      <td>-1</td>\n",
              "      <td>21</td>\n",
              "      <td>N</td>\n",
              "      <td>TX</td>\n",
              "    </tr>\n",
              "    <tr>\n",
              "      <th>4</th>\n",
              "      <td>10</td>\n",
              "      <td>2014-12-10</td>\n",
              "      <td>B</td>\n",
              "      <td>25</td>\n",
              "      <td>0.9153</td>\n",
              "      <td>0.0007</td>\n",
              "      <td>935</td>\n",
              "      <td>1.0200</td>\n",
              "      <td>N</td>\n",
              "      <td>4</td>\n",
              "      <td>5</td>\n",
              "      <td>4</td>\n",
              "      <td>5</td>\n",
              "      <td>4</td>\n",
              "      <td>4</td>\n",
              "      <td>4</td>\n",
              "      <td>5</td>\n",
              "      <td>13</td>\n",
              "      <td>22</td>\n",
              "      <td>13</td>\n",
              "      <td>23</td>\n",
              "      <td>Y</td>\n",
              "      <td>D</td>\n",
              "      <td>12</td>\n",
              "      <td>21</td>\n",
              "      <td>1</td>\n",
              "      <td>1</td>\n",
              "      <td>3</td>\n",
              "      <td>6</td>\n",
              "      <td>0</td>\n",
              "      <td>5</td>\n",
              "      <td>5</td>\n",
              "      <td>11</td>\n",
              "      <td>T</td>\n",
              "      <td>56025</td>\n",
              "      <td>0</td>\n",
              "      <td>1</td>\n",
              "      <td>1</td>\n",
              "      <td>1</td>\n",
              "      <td>0</td>\n",
              "      <td>...</td>\n",
              "      <td>9</td>\n",
              "      <td>8</td>\n",
              "      <td>25</td>\n",
              "      <td>25</td>\n",
              "      <td>9</td>\n",
              "      <td>3</td>\n",
              "      <td>9</td>\n",
              "      <td>18</td>\n",
              "      <td>7</td>\n",
              "      <td>4</td>\n",
              "      <td>16</td>\n",
              "      <td>12</td>\n",
              "      <td>13</td>\n",
              "      <td>9</td>\n",
              "      <td>8</td>\n",
              "      <td>6</td>\n",
              "      <td>8</td>\n",
              "      <td>6</td>\n",
              "      <td>11</td>\n",
              "      <td>5</td>\n",
              "      <td>19</td>\n",
              "      <td>21</td>\n",
              "      <td>13</td>\n",
              "      <td>21</td>\n",
              "      <td>-1</td>\n",
              "      <td>23</td>\n",
              "      <td>11</td>\n",
              "      <td>8</td>\n",
              "      <td>5</td>\n",
              "      <td>3</td>\n",
              "      <td>7</td>\n",
              "      <td>7</td>\n",
              "      <td>-1</td>\n",
              "      <td>3</td>\n",
              "      <td>-1</td>\n",
              "      <td>22</td>\n",
              "      <td>-1</td>\n",
              "      <td>21</td>\n",
              "      <td>N</td>\n",
              "      <td>CA</td>\n",
              "    </tr>\n",
              "  </tbody>\n",
              "</table>\n",
              "<p>5 rows × 298 columns</p>\n",
              "</div>"
            ],
            "text/plain": [
              "   QuoteNumber Original_Quote_Date  ... GeographicField63  GeographicField64\n",
              "0            3          2014-08-12  ...                 Y                 IL\n",
              "1            5          2013-09-07  ...                 N                 NJ\n",
              "2            7          2013-03-29  ...                 N                 NJ\n",
              "3            9          2015-03-21  ...                 N                 TX\n",
              "4           10          2014-12-10  ...                 N                 CA\n",
              "\n",
              "[5 rows x 298 columns]"
            ]
          },
          "metadata": {},
          "execution_count": 62
        }
      ]
    },
    {
      "cell_type": "markdown",
      "metadata": {
        "id": "V5ddBwT8KEGP"
      },
      "source": [
        "**Calculating percentage of null values in the columns**"
      ]
    },
    {
      "cell_type": "code",
      "metadata": {
        "colab": {
          "base_uri": "https://localhost:8080/"
        },
        "id": "YOsIPt1p2ogA",
        "outputId": "059ea3e6-0d45-4d4f-f473-8a3978a8e560"
      },
      "source": [
        "null_counts = housing_df_train.isnull().sum()\n",
        "null_counts[null_counts>0]* 100 / len(housing_df_train)"
      ],
      "execution_count": 63,
      "outputs": [
        {
          "output_type": "execute_result",
          "data": {
            "text/plain": [
              "PersonalField7      0.043336\n",
              "PersonalField84    47.634351\n",
              "PropertyField3      0.031064\n",
              "PropertyField4      0.024161\n",
              "PropertyField29    76.963640\n",
              "PropertyField32     0.026845\n",
              "PropertyField34     0.026845\n",
              "PropertyField36     0.043336\n",
              "PropertyField38     0.467876\n",
              "dtype: float64"
            ]
          },
          "metadata": {},
          "execution_count": 63
        }
      ]
    },
    {
      "cell_type": "code",
      "metadata": {
        "colab": {
          "base_uri": "https://localhost:8080/"
        },
        "id": "9tlZiQF32vOY",
        "outputId": "26f01c38-9c5e-4cb2-84ef-fc859052ae65"
      },
      "source": [
        "null_counts = housing_df_test.isnull().sum()\n",
        "null_counts[null_counts>0]* 100 / len(housing_df_test)"
      ],
      "execution_count": 87,
      "outputs": [
        {
          "output_type": "execute_result",
          "data": {
            "text/plain": [
              "Series([], dtype: float64)"
            ]
          },
          "metadata": {},
          "execution_count": 87
        }
      ]
    },
    {
      "cell_type": "markdown",
      "metadata": {
        "id": "g3eT7HVRKJW3"
      },
      "source": [
        "**Dropping columns with null values**"
      ]
    },
    {
      "cell_type": "code",
      "metadata": {
        "id": "pGftHQjK2xVk"
      },
      "source": [
        "housing_df_train.drop(['PropertyField29','PersonalField84'], axis=1, inplace=True)"
      ],
      "execution_count": 65,
      "outputs": []
    },
    {
      "cell_type": "code",
      "metadata": {
        "id": "d2tXP-G52zNl"
      },
      "source": [
        "housing_df_test.drop(['PropertyField29','PersonalField84'], axis=1, inplace=True)"
      ],
      "execution_count": 66,
      "outputs": []
    },
    {
      "cell_type": "markdown",
      "metadata": {
        "id": "SOPYEL0kKZ_6"
      },
      "source": [
        "**Feature Engineering**\n",
        "\n",
        "**Converting the Quote date column into Dates and then extracting the month, date, day & year**"
      ]
    },
    {
      "cell_type": "code",
      "metadata": {
        "id": "LZdYLVKw25hO"
      },
      "source": [
        "housing_df_train['Date'] = pd.to_datetime(pd.Series(housing_df_train['Original_Quote_Date']))\n",
        "\n",
        "# Drop 'Original_Quote_date'\n",
        "housing_df_train = housing_df_train.drop('Original_Quote_Date', axis=1)\n",
        "\n",
        "# Extract year,month,weekday from 'Date'\n",
        "housing_df_train['Year'] = housing_df_train['Date'].apply(lambda x: x.year)\n",
        "housing_df_train['Month'] = housing_df_train['Date'].apply(lambda x: x.month)\n",
        "housing_df_train['weekday'] = housing_df_train['Date'].apply(lambda x: x.weekday())\n",
        "housing_df_train=housing_df_train.drop('Date', axis=1)"
      ],
      "execution_count": 67,
      "outputs": []
    },
    {
      "cell_type": "code",
      "metadata": {
        "id": "b3jOaWQc28i3"
      },
      "source": [
        "housing_df_test['Date'] = pd.to_datetime(pd.Series(housing_df_test['Original_Quote_Date']))\n",
        "\n",
        "# Drop 'Original_Quote_date'\n",
        "housing_df_test = housing_df_test.drop('Original_Quote_Date', axis=1)\n",
        "\n",
        "# Extract year,month,weekday from 'Date'\n",
        "housing_df_test['Year'] = housing_df_test['Date'].apply(lambda x: x.year)\n",
        "housing_df_test['Month'] = housing_df_test['Date'].apply(lambda x: x.month)\n",
        "housing_df_test['weekday'] = housing_df_test['Date'].apply(lambda x: x.weekday())\n",
        "housing_df_test=housing_df_test.drop('Date', axis=1)"
      ],
      "execution_count": 68,
      "outputs": []
    },
    {
      "cell_type": "markdown",
      "metadata": {
        "id": "aJ-XtfWvKl1_"
      },
      "source": [
        "**Imputing null values of the column**\n"
      ]
    },
    {
      "cell_type": "code",
      "metadata": {
        "id": "kl0J5DeJ2_cQ"
      },
      "source": [
        "housing_df_train = housing_df_train.fillna(-1)\n",
        "housing_df_test = housing_df_test.fillna(-1)\n"
      ],
      "execution_count": 69,
      "outputs": []
    },
    {
      "cell_type": "markdown",
      "metadata": {
        "id": "O5cBko2hKj9j"
      },
      "source": [
        "**Encoding categorical Features**"
      ]
    },
    {
      "cell_type": "code",
      "metadata": {
        "colab": {
          "base_uri": "https://localhost:8080/"
        },
        "id": "oeExNUsH3Bl5",
        "outputId": "3d7032c0-4c23-4dd9-e6eb-d1ae609b92a2"
      },
      "source": [
        "for f in housing_df_train.columns:\n",
        "    if housing_df_train[f].dtype=='object':\n",
        "        print(f)\n",
        "        lbl = preprocessing.LabelEncoder()\n",
        "        lbl.fit(list(housing_df_train[f].values) + list(housing_df_test[f].values))\n",
        "        housing_df_train[f] = lbl.transform(list(housing_df_train[f].values))\n",
        "        housing_df_test[f] = lbl.transform(list(housing_df_test[f].values))"
      ],
      "execution_count": 70,
      "outputs": [
        {
          "output_type": "stream",
          "name": "stdout",
          "text": [
            "Field6\n",
            "Field10\n",
            "Field12\n",
            "CoverageField8\n",
            "CoverageField9\n",
            "SalesField7\n",
            "PersonalField7\n",
            "PersonalField16\n",
            "PersonalField17\n",
            "PersonalField18\n",
            "PersonalField19\n",
            "PropertyField3\n",
            "PropertyField4\n",
            "PropertyField5\n",
            "PropertyField7\n",
            "PropertyField14\n",
            "PropertyField28\n",
            "PropertyField30\n",
            "PropertyField31\n",
            "PropertyField32\n",
            "PropertyField33\n",
            "PropertyField34\n",
            "PropertyField36\n",
            "PropertyField37\n",
            "PropertyField38\n",
            "GeographicField63\n",
            "GeographicField64\n"
          ]
        }
      ]
    },
    {
      "cell_type": "markdown",
      "metadata": {
        "id": "FUqGDvh8Ktse"
      },
      "source": [
        "**Insight**\n",
        " - Some of the columns in the dataset has 'object' data type indicating categorical values.\n",
        " - Encoding categorical columns to integer type values"
      ]
    },
    {
      "cell_type": "markdown",
      "metadata": {
        "id": "DA000Z3lLMEC"
      },
      "source": [
        "**Extracting target variable and train set**"
      ]
    },
    {
      "cell_type": "code",
      "metadata": {
        "id": "mDyZCiTL3rAE"
      },
      "source": [
        "y=housing_df_train['QuoteConversion_Flag']\n",
        "X = housing_df_train.drop(['QuoteConversion_Flag'], axis=1)"
      ],
      "execution_count": 71,
      "outputs": []
    },
    {
      "cell_type": "markdown",
      "metadata": {
        "id": "anncug1pLdNV"
      },
      "source": [
        "**Splitting the training data into train and eval sets**"
      ]
    },
    {
      "cell_type": "code",
      "metadata": {
        "id": "gOf-orl03Q_D"
      },
      "source": [
        "\n",
        "X_train,X_eval,y_train,y_eval=train_test_split(X,y,test_size=0.30,random_state=1,stratify=y)"
      ],
      "execution_count": 72,
      "outputs": []
    },
    {
      "cell_type": "markdown",
      "metadata": {
        "id": "gMJEA6GMLgfx"
      },
      "source": [
        "- Insights\n",
        "- Since the training dataset has a large number of values, it has been split in the ratio of 70:30 as training and eval datasets for better time complexity \n"
      ]
    },
    {
      "cell_type": "markdown",
      "metadata": {
        "id": "SETlTzNZORVt"
      },
      "source": [
        "**Function to calculate metric scores of the model**"
      ]
    },
    {
      "cell_type": "code",
      "metadata": {
        "id": "SZTbVHq18Yep"
      },
      "source": [
        "def get_roc_auc_score(model, flag=True):\n",
        "    '''\n",
        "    model : classifier to predict values of X\n",
        "\n",
        "    '''\n",
        "    c = []\n",
        "    pred_train = model.predict(X_train)\n",
        "    \n",
        "    train_rec = metrics.roc_auc_score(y_train,pred_train)\n",
        "    c.append(train_rec) # adding train recall to list\n",
        "    if flag == True:\n",
        "        print(\"ROC_AUC_Score on training set : \", train_rec)\n",
        "        \n",
        "    return c "
      ],
      "execution_count": 73,
      "outputs": []
    },
    {
      "cell_type": "markdown",
      "metadata": {
        "id": "gXrLaexe4Rpr"
      },
      "source": [
        "**Creating the model**\n",
        "\n",
        "**Gradient Boosting Model**"
      ]
    },
    {
      "cell_type": "code",
      "metadata": {
        "id": "_SqMhjRL4qen"
      },
      "source": [
        "from sklearn.ensemble import GradientBoostingClassifier\n",
        "import xgboost as xgb"
      ],
      "execution_count": 74,
      "outputs": []
    },
    {
      "cell_type": "markdown",
      "metadata": {
        "id": "-o-4mVMtOVqe"
      },
      "source": [
        "**Fitting Gradient Boosting on training dataset **"
      ]
    },
    {
      "cell_type": "code",
      "metadata": {
        "id": "N3VV3--vq8Rh"
      },
      "source": [
        "gb_classifier = GradientBoostingClassifier(random_state=1)\n",
        "gb_classifier.fit(X_train,y_train)"
      ],
      "execution_count": null,
      "outputs": []
    },
    {
      "cell_type": "markdown",
      "metadata": {
        "id": "uE-pezZqOhnv"
      },
      "source": [
        "Calculating ROC AUC Matrix"
      ]
    },
    {
      "cell_type": "code",
      "metadata": {
        "colab": {
          "base_uri": "https://localhost:8080/"
        },
        "id": "0xr2_gim8aLO",
        "outputId": "fc8e567e-a210-4369-eae7-db41eed2a632"
      },
      "source": [
        "get_roc_auc_score(gb_classifier)"
      ],
      "execution_count": 23,
      "outputs": [
        {
          "output_type": "stream",
          "name": "stdout",
          "text": [
            "ROC_AUC_Score on training set :  0.8123037366655376\n"
          ]
        },
        {
          "output_type": "execute_result",
          "data": {
            "text/plain": [
              "[0.8123037366655376]"
            ]
          },
          "metadata": {},
          "execution_count": 23
        }
      ]
    },
    {
      "cell_type": "markdown",
      "metadata": {
        "id": "maeJzG2XOu3O"
      },
      "source": [
        "After creating the model with default parameters we are getting an ROC_AUC score of 0.8123037366655376 which is less. We will find out if the accuracy increases after doing hyperparameter tuning"
      ]
    },
    {
      "cell_type": "code",
      "metadata": {
        "colab": {
          "base_uri": "https://localhost:8080/"
        },
        "id": "gudK-T5m8vSK",
        "outputId": "81b666a2-bee9-4a86-9053-499c27aa8ee9"
      },
      "source": [
        "! unzip sample_submission.csv.zip -d submission"
      ],
      "execution_count": 25,
      "outputs": [
        {
          "output_type": "stream",
          "name": "stdout",
          "text": [
            "Archive:  sample_submission.csv.zip\n",
            "  inflating: submission/sample_submission.csv  \n"
          ]
        }
      ]
    },
    {
      "cell_type": "markdown",
      "metadata": {
        "id": "U3ENyHNuPkDv"
      },
      "source": [
        "**Creating Kaggle Submission File**"
      ]
    },
    {
      "cell_type": "code",
      "metadata": {
        "id": "bO6l_RYz8mlP"
      },
      "source": [
        "output_submission = pd.DataFrame(zip(housing_df_test.QuoteNumber,gb_classifier.predict_proba(housing_df_test)[:,1]), columns = ['QuoteNumber','QuoteConversion_Flag'])\n",
        "output_submission.to_csv('gradientboosting.csv', index=False)"
      ],
      "execution_count": 27,
      "outputs": []
    },
    {
      "cell_type": "markdown",
      "metadata": {
        "id": "KI6UcFRw-fpX"
      },
      "source": [
        "**Hyperparameter Tuning**"
      ]
    },
    {
      "cell_type": "code",
      "metadata": {
        "id": "UReVHvFAGTDT"
      },
      "source": [
        "from sklearn.model_selection import GridSearchCV\n",
        "from xgboost import XGBClassifier\n"
      ],
      "execution_count": 76,
      "outputs": []
    },
    {
      "cell_type": "markdown",
      "metadata": {
        "id": "INbt8ftfPqNx"
      },
      "source": [
        "**Grid of parameters to choose from**"
      ]
    },
    {
      "cell_type": "code",
      "metadata": {
        "id": "2kvLZq33-c3l"
      },
      "source": [
        "param_grid={ 'subsample': [.9],\"max_depth\": [6]}"
      ],
      "execution_count": 77,
      "outputs": []
    },
    {
      "cell_type": "markdown",
      "metadata": {
        "id": "z8q9PMO0Pvpv"
      },
      "source": [
        "**Choosing the type of Classifier**"
      ]
    },
    {
      "cell_type": "code",
      "metadata": {
        "id": "TIiKg2gqGH01"
      },
      "source": [
        "gb_classifier_tuned = GradientBoostingClassifier(random_state=1)"
      ],
      "execution_count": 78,
      "outputs": []
    },
    {
      "cell_type": "markdown",
      "metadata": {
        "id": "vUILV-25P1F3"
      },
      "source": [
        "**Run the grid search**"
      ]
    },
    {
      "cell_type": "code",
      "metadata": {
        "id": "RJpHIbCZGLDl"
      },
      "source": [
        "grid_obj=GridSearchCV(gb_classifier_tuned, param_grid, scoring='roc_auc',cv=5)"
      ],
      "execution_count": 79,
      "outputs": []
    },
    {
      "cell_type": "markdown",
      "metadata": {
        "id": "PeXHxmZYP7f4"
      },
      "source": [
        "The GridSearchCV is being run on the eval dataset. This will reduce the time taken to fit the model as the eval data set has less number of values"
      ]
    },
    {
      "cell_type": "code",
      "metadata": {
        "id": "47WSULh7G9z6"
      },
      "source": [
        "grid_obj = grid_obj.fit(X_eval, y_eval)"
      ],
      "execution_count": 39,
      "outputs": []
    },
    {
      "cell_type": "markdown",
      "metadata": {
        "id": "o4RSMWQtQZX3"
      },
      "source": [
        "Set the clf to the best combination of parameters"
      ]
    },
    {
      "cell_type": "code",
      "metadata": {
        "id": "x052pRcIOeIs"
      },
      "source": [
        "gbc_tuned = grid_obj.best_estimator_"
      ],
      "execution_count": 40,
      "outputs": []
    },
    {
      "cell_type": "markdown",
      "metadata": {
        "id": "IkO3AXGXQcNY"
      },
      "source": [
        "Fit the best algorithm to the training data."
      ]
    },
    {
      "cell_type": "code",
      "metadata": {
        "colab": {
          "base_uri": "https://localhost:8080/"
        },
        "id": "IkH1d7qDOhcf",
        "outputId": "aa37a8c3-af97-4af3-bb52-73a148978c55"
      },
      "source": [
        "gbc_tuned.fit(X_train, y_train)"
      ],
      "execution_count": 80,
      "outputs": [
        {
          "output_type": "execute_result",
          "data": {
            "text/plain": [
              "GradientBoostingClassifier(ccp_alpha=0.0, criterion='friedman_mse', init=None,\n",
              "                           learning_rate=0.1, loss='deviance', max_depth=6,\n",
              "                           max_features=None, max_leaf_nodes=None,\n",
              "                           min_impurity_decrease=0.0, min_impurity_split=None,\n",
              "                           min_samples_leaf=1, min_samples_split=2,\n",
              "                           min_weight_fraction_leaf=0.0, n_estimators=100,\n",
              "                           n_iter_no_change=None, presort='deprecated',\n",
              "                           random_state=1, subsample=0.9, tol=0.0001,\n",
              "                           validation_fraction=0.1, verbose=0,\n",
              "                           warm_start=False)"
            ]
          },
          "metadata": {},
          "execution_count": 80
        }
      ]
    },
    {
      "cell_type": "markdown",
      "metadata": {
        "id": "hs_P4824Qeoo"
      },
      "source": [
        "Find the scoring metric"
      ]
    },
    {
      "cell_type": "code",
      "metadata": {
        "colab": {
          "base_uri": "https://localhost:8080/"
        },
        "id": "qeH4oYiTSzsG",
        "outputId": "5b0117bb-d784-41a7-938f-8eba74d9b3ca"
      },
      "source": [
        "get_roc_auc_score(gbc_tuned)"
      ],
      "execution_count": 42,
      "outputs": [
        {
          "output_type": "stream",
          "name": "stdout",
          "text": [
            "ROC_AUC_Score on training set :  0.8464083361066608\n"
          ]
        },
        {
          "output_type": "execute_result",
          "data": {
            "text/plain": [
              "[0.8464083361066608]"
            ]
          },
          "metadata": {},
          "execution_count": 42
        }
      ]
    },
    {
      "cell_type": "markdown",
      "metadata": {
        "id": "OOm6ANpMQoUp"
      },
      "source": [
        "**Implementing SHAP **"
      ]
    },
    {
      "cell_type": "code",
      "metadata": {
        "colab": {
          "base_uri": "https://localhost:8080/"
        },
        "id": "6iW9N27auTQN",
        "outputId": "eb121a06-138b-4fdb-8b4f-585af104e311"
      },
      "source": [
        "!pip install shap\n",
        "import shap"
      ],
      "execution_count": 83,
      "outputs": [
        {
          "output_type": "stream",
          "name": "stdout",
          "text": [
            "Collecting shap\n",
            "  Downloading shap-0.40.0.tar.gz (371 kB)\n",
            "\u001b[?25l\r\u001b[K     |▉                               | 10 kB 20.6 MB/s eta 0:00:01\r\u001b[K     |█▊                              | 20 kB 26.3 MB/s eta 0:00:01\r\u001b[K     |██▋                             | 30 kB 13.0 MB/s eta 0:00:01\r\u001b[K     |███▌                            | 40 kB 9.9 MB/s eta 0:00:01\r\u001b[K     |████▍                           | 51 kB 5.4 MB/s eta 0:00:01\r\u001b[K     |█████▎                          | 61 kB 5.5 MB/s eta 0:00:01\r\u001b[K     |██████▏                         | 71 kB 6.1 MB/s eta 0:00:01\r\u001b[K     |███████                         | 81 kB 6.9 MB/s eta 0:00:01\r\u001b[K     |████████                        | 92 kB 7.1 MB/s eta 0:00:01\r\u001b[K     |████████▉                       | 102 kB 5.5 MB/s eta 0:00:01\r\u001b[K     |█████████▊                      | 112 kB 5.5 MB/s eta 0:00:01\r\u001b[K     |██████████▋                     | 122 kB 5.5 MB/s eta 0:00:01\r\u001b[K     |███████████▌                    | 133 kB 5.5 MB/s eta 0:00:01\r\u001b[K     |████████████▍                   | 143 kB 5.5 MB/s eta 0:00:01\r\u001b[K     |█████████████▎                  | 153 kB 5.5 MB/s eta 0:00:01\r\u001b[K     |██████████████                  | 163 kB 5.5 MB/s eta 0:00:01\r\u001b[K     |███████████████                 | 174 kB 5.5 MB/s eta 0:00:01\r\u001b[K     |███████████████▉                | 184 kB 5.5 MB/s eta 0:00:01\r\u001b[K     |████████████████▊               | 194 kB 5.5 MB/s eta 0:00:01\r\u001b[K     |█████████████████▋              | 204 kB 5.5 MB/s eta 0:00:01\r\u001b[K     |██████████████████▌             | 215 kB 5.5 MB/s eta 0:00:01\r\u001b[K     |███████████████████▍            | 225 kB 5.5 MB/s eta 0:00:01\r\u001b[K     |████████████████████▎           | 235 kB 5.5 MB/s eta 0:00:01\r\u001b[K     |█████████████████████▏          | 245 kB 5.5 MB/s eta 0:00:01\r\u001b[K     |██████████████████████          | 256 kB 5.5 MB/s eta 0:00:01\r\u001b[K     |███████████████████████         | 266 kB 5.5 MB/s eta 0:00:01\r\u001b[K     |███████████████████████▉        | 276 kB 5.5 MB/s eta 0:00:01\r\u001b[K     |████████████████████████▊       | 286 kB 5.5 MB/s eta 0:00:01\r\u001b[K     |█████████████████████████▋      | 296 kB 5.5 MB/s eta 0:00:01\r\u001b[K     |██████████████████████████▌     | 307 kB 5.5 MB/s eta 0:00:01\r\u001b[K     |███████████████████████████▎    | 317 kB 5.5 MB/s eta 0:00:01\r\u001b[K     |████████████████████████████▏   | 327 kB 5.5 MB/s eta 0:00:01\r\u001b[K     |█████████████████████████████   | 337 kB 5.5 MB/s eta 0:00:01\r\u001b[K     |██████████████████████████████  | 348 kB 5.5 MB/s eta 0:00:01\r\u001b[K     |██████████████████████████████▉ | 358 kB 5.5 MB/s eta 0:00:01\r\u001b[K     |███████████████████████████████▊| 368 kB 5.5 MB/s eta 0:00:01\r\u001b[K     |████████████████████████████████| 371 kB 5.5 MB/s \n",
            "\u001b[?25h  Installing build dependencies ... \u001b[?25l\u001b[?25hdone\n",
            "  Getting requirements to build wheel ... \u001b[?25l\u001b[?25hdone\n",
            "    Preparing wheel metadata ... \u001b[?25l\u001b[?25hdone\n",
            "Requirement already satisfied: pandas in /usr/local/lib/python3.7/dist-packages (from shap) (1.1.5)\n",
            "Requirement already satisfied: packaging>20.9 in /usr/local/lib/python3.7/dist-packages (from shap) (21.0)\n",
            "Requirement already satisfied: numba in /usr/local/lib/python3.7/dist-packages (from shap) (0.51.2)\n",
            "Requirement already satisfied: numpy in /usr/local/lib/python3.7/dist-packages (from shap) (1.19.5)\n",
            "Requirement already satisfied: scipy in /usr/local/lib/python3.7/dist-packages (from shap) (1.4.1)\n",
            "Requirement already satisfied: cloudpickle in /usr/local/lib/python3.7/dist-packages (from shap) (1.3.0)\n",
            "Collecting slicer==0.0.7\n",
            "  Downloading slicer-0.0.7-py3-none-any.whl (14 kB)\n",
            "Requirement already satisfied: scikit-learn in /usr/local/lib/python3.7/dist-packages (from shap) (0.22.2.post1)\n",
            "Requirement already satisfied: tqdm>4.25.0 in /usr/local/lib/python3.7/dist-packages (from shap) (4.62.3)\n",
            "Requirement already satisfied: pyparsing>=2.0.2 in /usr/local/lib/python3.7/dist-packages (from packaging>20.9->shap) (2.4.7)\n",
            "Requirement already satisfied: setuptools in /usr/local/lib/python3.7/dist-packages (from numba->shap) (57.4.0)\n",
            "Requirement already satisfied: llvmlite<0.35,>=0.34.0.dev0 in /usr/local/lib/python3.7/dist-packages (from numba->shap) (0.34.0)\n",
            "Requirement already satisfied: pytz>=2017.2 in /usr/local/lib/python3.7/dist-packages (from pandas->shap) (2018.9)\n",
            "Requirement already satisfied: python-dateutil>=2.7.3 in /usr/local/lib/python3.7/dist-packages (from pandas->shap) (2.8.2)\n",
            "Requirement already satisfied: six>=1.5 in /usr/local/lib/python3.7/dist-packages (from python-dateutil>=2.7.3->pandas->shap) (1.15.0)\n",
            "Requirement already satisfied: joblib>=0.11 in /usr/local/lib/python3.7/dist-packages (from scikit-learn->shap) (1.0.1)\n",
            "Building wheels for collected packages: shap\n",
            "  Building wheel for shap (PEP 517) ... \u001b[?25l\u001b[?25hdone\n",
            "  Created wheel for shap: filename=shap-0.40.0-cp37-cp37m-linux_x86_64.whl size=509237 sha256=6d3572dc2bb3f8649e785996fc24a6eb91a03f242f141ab90c66c3a783c9c7f3\n",
            "  Stored in directory: /root/.cache/pip/wheels/ec/35/84/e304841ac4b910bc95fe9a6e5302eb2507b4333728851dcbfb\n",
            "Successfully built shap\n",
            "Installing collected packages: slicer, shap\n",
            "Successfully installed shap-0.40.0 slicer-0.0.7\n"
          ]
        }
      ]
    },
    {
      "cell_type": "code",
      "metadata": {
        "id": "Ng68WMgYp0B9"
      },
      "source": [
        "import shap\n",
        "\n",
        "shap_values = shap.TreeExplainer(gbc_tuned).shap_values(X_train)\n"
      ],
      "execution_count": 86,
      "outputs": []
    },
    {
      "cell_type": "code",
      "metadata": {
        "colab": {
          "base_uri": "https://localhost:8080/",
          "height": 585
        },
        "id": "h6TD_WJSwfmQ",
        "outputId": "df49c6f8-8a21-489a-9809-cdc0116a34f0"
      },
      "source": [
        "shap.summary_plot(shap_values, X_train)"
      ],
      "execution_count": 85,
      "outputs": [
        {
          "output_type": "display_data",
          "data": {
            "image/png": "[encoded data removed]",
            "text/plain": [
              "<Figure size 576x684 with 2 Axes>"
            ]
          },
          "metadata": {}
        }
      ]
    },
    {
      "cell_type": "markdown",
      "metadata": {
        "id": "T_MxQGzlR6-d"
      },
      "source": [
        "**Insights**\n",
        "- From the above graph of SHAP Values, we can infer that PropertyField37 has the highest importance to the model. \n",
        "- The next best feature would be SalesField5\n",
        "-The fields which have are more towards blue color are less important to the model"
      ]
    },
    {
      "cell_type": "markdown",
      "metadata": {
        "id": "EtVXweeVSoRh"
      },
      "source": [
        "**Creating submission file for Kaggle**"
      ]
    },
    {
      "cell_type": "code",
      "metadata": {
        "id": "GUhXoAPuS75T"
      },
      "source": [
        "output_submission = pd.DataFrame(zip(housing_df_test.QuoteNumber,gbc_tuned.predict_proba(housing_df_test)[:,1]), columns = ['QuoteNumber','QuoteConversion_Flag'])\n",
        "output_submission.to_csv('gradientboosting_hyperparametertuning.csv', index=False)"
      ],
      "execution_count": 43,
      "outputs": []
    },
    {
      "cell_type": "markdown",
      "metadata": {
        "id": "jsPh53P-Rm7J"
      },
      "source": [
        "**Contributition**\n",
        "\n",
        "The implementation of Gradient Boosting was not previously done by other Kaggle Contributors. The GB model gave a public score of 0.95909 and a score of 0.96406 after doing hyperparameter tuning"
      ]
    },
    {
      "cell_type": "markdown",
      "metadata": {
        "id": "o4FaswvmGyu9"
      },
      "source": [
        "**References**\n",
        "\n",
        "1. https://www.kaggle.com/c/homesite-quote-conversion/overview\n",
        "2. Scikit learn official documentation.\n",
        "3. Refered towardsdatascience\n",
        "\n",
        "**Kaggle** has been used to take the competition. Algorithms have been refered from **Sckit learn official documentation** and also from the notebook avaialable on Kaggle. Exploratory data analysis has been referred from **towardsdatascience**. The rest of the code has been done independently."
      ]
    },
    {
      "cell_type": "markdown",
      "metadata": {
        "id": "E0cp0RdAGnQ4"
      },
      "source": [
        "**Licencing**\n",
        "\n",
        "Copyright 2021 Divya Unnikrishnan\n",
        "\n",
        "Permission is hereby granted, free of charge, to any person obtaining a copy of this software and associated documentation files (the \"Software\"), to deal in the Software without restriction, including without limitation the rights to use, copy, modify, merge, publish, distribute, sublicense, and/or sell copies of the Software, and to permit persons to whom the Software is furnished to do so, subject to the following conditions:\n",
        "\n",
        "The above copyright notice and this permission notice shall be included in all copies or substantial portions of the Software.\n",
        "\n",
        "THE SOFTWARE IS PROVIDED \"AS IS\", WITHOUT WARRANTY OF ANY KIND, EXPRESS OR IMPLIED, INCLUDING BUT NOT LIMITED TO THE WARRANTIES OF MERCHANTABILITY, FITNESS FOR A PARTICULAR PURPOSE AND NONINFRINGEMENT. IN NO EVENT SHALL THE AUTHORS OR COPYRIGHT HOLDERS BE LIABLE FOR ANY CLAIM, DAMAGES OR OTHER LIABILITY, WHETHER IN AN ACTION OF CONTRACT, TORT OR OTHERWISE, ARISING FROM, OUT OF OR IN CONNECTION WITH THE SOFTWARE OR THE USE OR OTHER DEALINGS IN THE SOFTWARE."
      ]
    }
  ]
}